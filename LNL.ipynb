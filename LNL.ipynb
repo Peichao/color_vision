{
 "cells": [
  {
   "cell_type": "code",
   "execution_count": null,
   "metadata": {
    "collapsed": true
   },
   "outputs": [],
   "source": [
    "import glob\n",
    "import numpy as np\n",
    "import scipy.io as sio\n",
    "import pandas as pd\n",
    "import matplotlib.pyplot as plt\n"
   ]
  },
  {
   "cell_type": "code",
   "execution_count": null,
   "metadata": {
    "collapsed": true
   },
   "outputs": [],
   "source": [
    "import os\n",
    "import numpy as np\n",
    "import tensorflow as tf\n",
    "import keras\n",
    "from keras.models import Model\n",
    "from keras.layers import Add, Multiply, Dense, Input, Activation\n",
    "import keras.backend.tensorflow_backend as KTF\n",
    "import scipy.io as sio\n",
    "\n",
    "\n",
    "def get_session(gpu_fraction=0.5):\n",
    "    num_threads = os.environ.get('OMP_NUM_THREADS')\n",
    "    gpu_options = tf.GPUOptions(per_process_gpu_memory_fraction=gpu_fraction)\n",
    "\n",
    "    if num_threads:\n",
    "        return tf.Session(config=tf.ConfigProto(gpu_options=gpu_options, intra_op_parallelism_threads=num_threads))\n",
    "    else:\n",
    "        return tf.Session(config=tf.ConfigProto(gpu_options=gpu_options))\n",
    "\n",
    "\n",
    "def makeModel(N, order=1):\n",
    "    \"\"\"\n",
    "    To run the model, use the following:\n",
    "\n",
    "    model = makeModel(n_dimensions, order)\n",
    "    model.fit(X, Y, epochs=n_epochs, callbacks=[keras.callbacks.EarlyStopping()], validation_split=0.25)\n",
    "\n",
    "    For the linear model, model.get_weights() returns the linear weights and the bias.\n",
    "    For the quadratic model, model.get_weights() returns quadratic weights, dummy weights, linear weights, and the bias.\n",
    "    \"\"\"\n",
    "    KTF.set_session(get_session())\n",
    "\n",
    "    inLayer = Input((N,))\n",
    "    linear = Dense(1, name='Linear')(inLayer)\n",
    "    if order == 2:\n",
    "        quad1 = Dense(N, kernel_initializer=keras.initializers.random_normal(stddev=0.001),\n",
    "                      use_bias=False, name='Quad')(inLayer)\n",
    "        quad2 = Multiply()([quad1, inLayer])\n",
    "        quad3 = Dense(1, kernel_initializer='ones', use_bias=False, trainable=False)(quad2)\n",
    "        x = Add()([quad3, linear])\n",
    "        outLayer = Activation('sigmoid')(x)\n",
    "    else:\n",
    "        outLayer = Activation('sigmoid')(linear)\n",
    "    model = Model(inLayer, outLayer)\n",
    "    model.compile('rmsprop', 'binary_crossentropy')\n",
    "    return model\n",
    "\n",
    "\n",
    "def train_MNE(stimuli, spike_probs, order=2, val_split=0.25):\n",
    "    \"\"\"\n",
    "    Creates and fits a MNE model\n",
    "\n",
    "    Inputs:\n",
    "    stimuli - numpy array of the stimuli.  Of shape (number of samples,dimension of stimulus)\n",
    "    spike_probs - numpy array of the spiking probabilities.  Of shape (number of samples)\n",
    "\n",
    "    order - The order of the MNE fit.  \n",
    "        1 = first order linear filters only (standard logistic regression).  \n",
    "        2 = also fit second order quadratic kernels.\n",
    "    \n",
    "    val_split - what percentage of data to set aside for early stopping on the validation set.  \n",
    "        This will be lopped off the end of stimuli and spike_probs so I recommend having shuffled stimuli \n",
    "        and spike_probs initially. That way the validation split roughly matches the training distribution.\n",
    "\n",
    "    Outputs:\n",
    "    results - A python dictionary with resulting fitted parameters.\n",
    "    \"\"\"\n",
    "\n",
    "    dim_x = stimuli.shape[1]\n",
    "    model = makeModel(dim_x, order=order)\n",
    "\n",
    "    model.fit(stimuli, spike_probs, verbose=0, epochs=40, \n",
    "              callbacks=[keras.callbacks.EarlyStopping(patience=2)], validation_split=val_split)\n",
    "    if order == 1:\n",
    "        w, bias = model.get_weights()\n",
    "        results = {\"linear\": w, \"bias\": bias}\n",
    "    else:\n",
    "        J, dummy, w, bias = model.get_weights()\n",
    "        J_sym = 0.5 * (J + np.transpose(J))\n",
    "        results = {\"quadratic\": J_sym, \"linear\": w, \"bias\": bias}\n",
    "    return results\n"
   ]
  },
  {
   "cell_type": "code",
   "execution_count": null,
   "metadata": {},
   "outputs": [],
   "source": [
    "data_folder = 'F:/NHP/AD8/Ephys/20161205/hartley_gray'\n",
    "trials_path = glob.glob(data_folder + '/trials.csv')[0]\n",
    "\n",
    "trials = pd.read_csv(trials_path, index_col=0)\n",
    "total_time = int(np.round(trials.stim_time[trials.index[-1]] - trials.stim_time[0]))\n",
    "t_index = np.arange(0, total_time, 0.001)\n",
    "stim = pd.DataFrame(np.zeros([total_time*1000, 2]), columns=['sfx', 'sfy'])"
   ]
  },
  {
   "cell_type": "code",
   "execution_count": 12,
   "metadata": {},
   "outputs": [],
   "source": [
    "st = sio.loadmat(\"C:\\\\Users\\\\anupam\\\\Dropbox\\\\NHP cells\\\\spike_times_1.mat\")['spike_times']\n",
    "st_shift = st - trials.stim_time[0]\n",
    "st_bins = np.histogram(st, bins=t_index)[0]\n",
    "\n",
    "stim_time_shift = trials.stim_time - trials.stim_time[0]\n",
    "stim_time_idx = np.searchsorted(stim_time_shift, t_index, side='right') - 1\n",
    "stim_bins = trials.loc[stim_time_idx[:-1], ['sf_x', 'sf_y']]"
   ]
  },
  {
   "cell_type": "code",
   "execution_count": null,
   "metadata": {},
   "outputs": [],
   "source": [
    "MNE_test = train_MNE(stim_bins.as_matrix(), st_bins)"
   ]
  },
  {
   "cell_type": "code",
   "execution_count": 17,
   "metadata": {},
   "outputs": [
    {
     "data": {
      "text/plain": [
       "{'bias': array([-16.11840248], dtype=float32), 'linear': array([[-7.86706543],\n        [ 0.15429549]], dtype=float32), 'quadratic': array([[-7.00103807,  0.1253639 ],\n        [ 0.1253639 , -7.06098032]], dtype=float32)}"
      ]
     },
     "execution_count": 17,
     "metadata": {},
     "output_type": "execute_result"
    }
   ],
   "source": [
    "MNE_test"
   ]
  },
  {
   "cell_type": "code",
   "execution_count": 63,
   "metadata": {},
   "outputs": [],
   "source": [
    "unique_stim = stim_bins.drop_duplicates().as_matrix()\n",
    "term_lin = term2 = np.dot(MNE_test['linear'].T, unique_stim.T)\n",
    "bias = MNE_test['bias']\n",
    "spike_prob = 1 / (1 + np.exp((term_lin + bias)))"
   ]
  },
  {
   "cell_type": "code",
   "execution_count": 64,
   "metadata": {},
   "outputs": [
    {
     "data": {
      "image/png": "[encoded data removed]",
      "text/plain": [
       "<matplotlib.figure.Figure at 0x1d1315fc278>"
      ]
     },
     "metadata": {},
     "output_type": "display_data"
    }
   ],
   "source": [
    "import matplotlib.pyplot as plt\n",
    "plt.plot(spike_prob)\n",
    "plt.show()"
   ]
  },
  {
   "cell_type": "code",
   "execution_count": 65,
   "metadata": {},
   "outputs": [
    {
     "data": {
      "text/plain": [
       "array([[ 1.        ,  1.        ,  1.        , ...,  1.        ,\n         0.99999995,  0.99999994]])"
      ]
     },
     "execution_count": 65,
     "metadata": {},
     "output_type": "execute_result"
    }
   ],
   "source": [
    "spike_prob"
   ]
  },
  {
   "cell_type": "code",
   "execution_count": null,
   "metadata": {},
   "outputs": [],
   "source": []
  }
 ],
 "metadata": {
  "kernelspec": {
   "display_name": "Python 2",
   "language": "python",
   "name": "python2"
  },
  "language_info": {
   "codemirror_mode": {
    "name": "ipython",
    "version": 2
   },
   "file_extension": ".py",
   "mimetype": "text/x-python",
   "name": "python",
   "nbconvert_exporter": "python",
   "pygments_lexer": "ipython2",
   "version": "2.7.6"
  }
 },
 "nbformat": 4,
 "nbformat_minor": 0
}
